{
 "cells": [
  {
   "cell_type": "markdown",
   "metadata": {},
   "source": [
    "### DOWNLOAD STOCK DATA"
   ]
  },
  {
   "cell_type": "code",
   "execution_count": 41,
   "metadata": {},
   "outputs": [],
   "source": [
    "## initial script model.\n",
    "import requests\n",
    "import urllib\n",
    "from datetime import datetime\n",
    "from datetime import datetime as dt\n",
    "import time\n",
    "\n",
    "\n",
    "\n",
    "url = \"https://query1.finance.yahoo.com/v7/finance/download/AAPL?period1=345427200&period2=1672444800&interval=1d&events=history&includeAdjustedClose=true\"\n",
    "headers = {\"User-Agent\" : \"Mozilla/5.0 (X11;Linux x86_64) AppleWebKit/537.36(KHTML,like Gecko) Chrome/88.0.4324.96 Safari/537.36\"}\n",
    "\n",
    "# content = requests.get(url, headers = headers).content\n",
    "content = requests.get(url, headers = headers).text\n",
    "#print(content)\n",
    "\n",
    "with open(\"apple_data.csv\", \"w\") as apple_data:\n",
    "    apple_data.write(content)"
   ]
  },
  {
   "cell_type": "markdown",
   "metadata": {},
   "source": [
    "+ In the given url.\n",
    "+ https://query1.finance.yahoo.com/v7/finance/download/AAPL?period1=345427200&period2=1672444800&interval=1d&events=history&includeAdjustedClose=true\n",
    "+ We have period 1 which means from date.\n",
    "+ We have period 2 which means to date.\n",
    "+ And there is an option to Enter the Ticker Symbol.\n",
    "+ We need to hard code these values in the url by using f string and curly braces.\n",
    "+ But from the from_date , we have to get the period1=345427200 value.\n",
    "+ And from the to_date, we have to get the period2=167244480"
   ]
  },
  {
   "cell_type": "code",
   "execution_count": 32,
   "metadata": {},
   "outputs": [
    {
     "name": "stdin",
     "output_type": "stream",
     "text": [
      "Enter the From Date in the yyyy/mm/dd format:-- 2022/12/31\n"
     ]
    },
    {
     "name": "stdout",
     "output_type": "stream",
     "text": [
      "<class 'datetime.datetime'>\n",
      "2022-12-31 00:00:00\n",
      "1672425000\n"
     ]
    }
   ],
   "source": [
    "from datetime import datetime\n",
    "import time\n",
    "from_date = input(\"Enter the From Date in the yyyy/mm/dd format:--\")\n",
    "#to_date = input(\"Enter the End Date in the yyyy/mm/dd format:--\")\n",
    "d = datetime.strptime(from_date,\"%Y/%m/%d\")\n",
    "print(type(d))\n",
    "print(d)\n",
    "epoch = int(time.mktime(d.timetuple()))\n",
    "print(epoch)"
   ]
  },
  {
   "cell_type": "code",
   "execution_count": 47,
   "metadata": {},
   "outputs": [
    {
     "name": "stdin",
     "output_type": "stream",
     "text": [
      "Enter the ticker Symbol:-- BTC-USD\n",
      "Enter the From Date in the yyyy/mm/dd format:-- 2020/01/01\n",
      "Enter the End Date in the yyyy/mm/dd format:-- 2022/12/30\n"
     ]
    }
   ],
   "source": [
    "import requests\n",
    "import urllib\n",
    "from datetime import datetime\n",
    "from datetime import datetime as dt\n",
    "import time\n",
    "\n",
    "\n",
    "## need to automate the process.\n",
    "## add one user menu to select the from date.\n",
    "## add one user menu to select the to date or end date.\n",
    "## add one user menu to select the ticker symbol.\n",
    "\n",
    "ticker_symbol = input(\"Enter the ticker Symbol:--\")\n",
    "from_date = input(\"Enter the From Date in the yyyy/mm/dd format:--\")\n",
    "to_date = input(\"Enter the End Date in the yyyy/mm/dd format:--\")\n",
    "\n",
    "from_datetime = datetime.strptime(from_date,\"%Y/%m/%d\")\n",
    "to_datetime = datetime.strptime(to_date,\"%Y/%m/%d\")\n",
    "\n",
    "from_epoch = int(time.mktime(from_datetime.timetuple()))\n",
    "to_epoch = int(time.mktime(to_datetime.timetuple()))\n",
    "\n",
    "url = f\"https://query1.finance.yahoo.com/v7/finance/download/{ticker_symbol}?period1={from_epoch}&period2={to_epoch}&interval=1d&events=history&includeAdjustedClose=true\"\n",
    "headers = {\"User-Agent\" : \"Mozilla/5.0 (X11;Linux x86_64) AppleWebKit/537.36(KHTML,like Gecko) Chrome/88.0.4324.96 Safari/537.36\"}\n",
    "\n",
    "content = requests.get(url, headers = headers).text\n",
    "#print(content)\n",
    "\n",
    "\n",
    "filename = f\"{dt.now().strftime('%Y-%m-%d-%H-%M-%S')}__{ticker_symbol}.csv\"\n",
    "#print(filename)\n",
    "with open(filename, mode = \"w\") as stock_csv:\n",
    "    stock_csv.write(content)"
   ]
  },
  {
   "cell_type": "code",
   "execution_count": null,
   "metadata": {},
   "outputs": [],
   "source": []
  }
 ],
 "metadata": {
  "kernelspec": {
   "display_name": "Python 3",
   "language": "python",
   "name": "python3"
  },
  "language_info": {
   "codemirror_mode": {
    "name": "ipython",
    "version": 3
   },
   "file_extension": ".py",
   "mimetype": "text/x-python",
   "name": "python",
   "nbconvert_exporter": "python",
   "pygments_lexer": "ipython3",
   "version": "3.8.3"
  }
 },
 "nbformat": 4,
 "nbformat_minor": 4
}
