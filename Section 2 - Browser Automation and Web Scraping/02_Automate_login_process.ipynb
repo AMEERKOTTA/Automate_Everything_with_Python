{
 "cells": [
  {
   "cell_type": "markdown",
   "metadata": {},
   "source": [
    "### AUTOMATE LOGIN PROCESS"
   ]
  },
  {
   "cell_type": "code",
   "execution_count": 5,
   "metadata": {},
   "outputs": [],
   "source": [
    "from selenium import webdriver\n",
    "import time\n",
    "from selenium.webdriver.common.keys import Keys"
   ]
  },
  {
   "cell_type": "code",
   "execution_count": 9,
   "metadata": {},
   "outputs": [
    {
     "name": "stdout",
     "output_type": "stream",
     "text": [
      "http://automated.pythonanywhere.com/\n",
      "None\n"
     ]
    }
   ],
   "source": [
    "## Functions Used.\n",
    "\n",
    "def get_driver():\n",
    "\n",
    "    options = webdriver.ChromeOptions()\n",
    "    #print(options)\n",
    "    options.add_argument(\"disable-infobars\")\n",
    "    options.add_argument(\"start-maximized\")\n",
    "    options.add_argument(\"disable-dev-shm-usage\")\n",
    "    options.add_argument(\"no-sandbox\")\n",
    "    options.add_experimental_option(\"excludeSwitches\",[\"enable_automation\"])\n",
    "    options.add_argument(\"disable-blank-features=AutomationControlled\")\n",
    "\n",
    "    driver = webdriver.Chrome(options=options)\n",
    "    driver.get(\"http://automated.pythonanywhere.com/login/\")\n",
    "\n",
    "    return driver\n",
    "\n",
    "\n",
    "def main():\n",
    "    \n",
    "    driver = get_driver()\n",
    "    driver.find_element(by = \"id\", value = \"id_username\").send_keys(\"automated\")\n",
    "    \n",
    "    time.sleep(5)\n",
    "    \n",
    "    driver.find_element(by = \"id\", value = \"id_password\").send_keys(\"automatedautomated\" + Keys.RETURN)\n",
    "    \n",
    "    time.sleep(5)\n",
    "    \n",
    "    driver.find_element(by = \"xpath\", value = \"/html/body/nav/div/a\").click()\n",
    "    \n",
    "    \n",
    "    print(driver.current_url)\n",
    "    \n",
    "print(main())"
   ]
  },
  {
   "cell_type": "markdown",
   "metadata": {},
   "source": [
    "**CHALLENGE**"
   ]
  },
  {
   "cell_type": "code",
   "execution_count": 21,
   "metadata": {},
   "outputs": [
    {
     "name": "stdout",
     "output_type": "stream",
     "text": [
      "24.0\n"
     ]
    }
   ],
   "source": [
    "## Functions Used.\n",
    "\n",
    "def get_driver():\n",
    "\n",
    "    options = webdriver.ChromeOptions()\n",
    "    #print(options)\n",
    "    options.add_argument(\"disable-infobars\")\n",
    "    options.add_argument(\"start-maximized\")\n",
    "    options.add_argument(\"disable-dev-shm-usage\")\n",
    "    options.add_argument(\"no-sandbox\")\n",
    "    options.add_experimental_option(\"excludeSwitches\",[\"enable_automation\"])\n",
    "    options.add_argument(\"disable-blank-features=AutomationControlled\")\n",
    "\n",
    "    driver = webdriver.Chrome(options=options)\n",
    "    driver.get(\"http://automated.pythonanywhere.com/login/\")\n",
    "\n",
    "    return driver\n",
    "\n",
    "def clean_text(text):\n",
    "    \"\"\"\n",
    "    Extract only the temperature from the Text.\n",
    "    \"\"\"\n",
    "    output = float(text.split(\": \")[1])\n",
    "    \n",
    "    return output\n",
    "\n",
    "\n",
    "def main():\n",
    "    ## get the driver by get_driver method.\n",
    "    driver = get_driver()\n",
    "    ## then enter username as \"automated\"\n",
    "    driver.find_element(by = \"id\", value = \"id_username\").send_keys(\"automated\")\n",
    "    time.sleep(3)  ## guve some time of 3 seconds.\n",
    "    ## then enter the password and enter the ENTER button.\n",
    "    driver.find_element(by = \"id\", value = \"id_password\").send_keys(\"automatedautomated\" + Keys.RETURN)\n",
    "    time.sleep(3)  ## give some time.\n",
    "    driver.find_element(by = \"xpath\", value = \"/html/body/nav/div/a\").click()\n",
    "    time.sleep(3)  ## give some time to sleep\n",
    "    #print(driver.current_url)\n",
    "    ## then go to the particular loacation to scrap from there.\n",
    "    text = driver.find_element(by = \"xpath\", value = \"/html/body/div[1]/div/h1[2]\").text  ## this will find the element.\n",
    "    #print(text)\n",
    "    return clean_text(text)\n",
    "    \n",
    "print(main())  ## call the main functions."
   ]
  },
  {
   "cell_type": "markdown",
   "metadata": {},
   "source": [
    "**CHALLENGE**\n",
    "\n",
    "+ Login.\n",
    "\n",
    "+ Click Home.\n",
    "\n",
    "+ Scrape the Values as Previously.\n",
    "\n",
    "+ Save the Values in a Text File in Every 2 Seconds."
   ]
  },
  {
   "cell_type": "code",
   "execution_count": 49,
   "metadata": {},
   "outputs": [],
   "source": [
    "def get_driver():\n",
    "\n",
    "    options = webdriver.ChromeOptions()\n",
    "    #print(options)\n",
    "    options.add_argument(\"disable-infobars\")\n",
    "    options.add_argument(\"start-maximized\")\n",
    "    options.add_argument(\"disable-dev-shm-usage\")\n",
    "    options.add_argument(\"no-sandbox\")\n",
    "    options.add_experimental_option(\"excludeSwitches\",[\"enable_automation\"])\n",
    "    options.add_argument(\"disable-blank-features=AutomationControlled\")\n",
    "\n",
    "    driver = webdriver.Chrome(options=options)\n",
    "    driver.get(\"http://automated.pythonanywhere.com/login/\")\n",
    "\n",
    "    return driver\n",
    "\n",
    "def clean_text(text):\n",
    "    \"\"\"\n",
    "    Extract only the temperature from the Text.\n",
    "    \"\"\"\n",
    "    output = float(text.split(\": \")[1])\n",
    "    \n",
    "    return output\n",
    "\n",
    "def write_file(text):\n",
    "    \"\"\"\n",
    "    Write the text file.\n",
    "    The Elements will be the text values that are Scrapped from the Website.\n",
    "    \"\"\"\n",
    "    filename = f\"{dt.now().strftime('%Y-%m-%d-%H-%M-%S')}\"\n",
    "    with open(filename, mode = \"w\") as file:\n",
    "        file.write(text)\n",
    "    \n",
    "def main():\n",
    "    ## get the driver by get_driver method.\n",
    "    driver = get_driver()\n",
    "    ## then enter username as \"automated\"\n",
    "    driver.find_element(by = \"id\", value = \"id_username\").send_keys(\"automated\")\n",
    "    time.sleep(3)  ## guve some time of 3 seconds.\n",
    "    ## then enter the password and enter the ENTER button.\n",
    "    driver.find_element(by = \"id\", value = \"id_password\").send_keys(\"automatedautomated\" + Keys.RETURN)\n",
    "    time.sleep(3)  ## give some time.\n",
    "    driver.find_element(by = \"xpath\", value = \"/html/body/nav/div/a\").click()  ## enter the home button\n",
    "    ## then go to the particular loacation to scrap from there.\n",
    "    \n",
    "    count = 0\n",
    "    scrapped_list = []\n",
    "    while True:\n",
    "        time.sleep(3)  ## give some time to sleep\n",
    "        ## scrap the element\n",
    "        element = driver.find_element(by = \"xpath\", value = \"/html/body/div[1]/div/h1[2]\").text  ## this will find the element.\n",
    "        ## then convert the float value and split the float to the required number.\n",
    "        text = str(clean_text(element))\n",
    "        ## call the function to write the file.\n",
    "        write_file(text)\n",
    "        scrapped_list.append(text)\n",
    "        \n",
    "        count += 1\n",
    "        \n",
    "        if count == 5:\n",
    "            break\n",
    "            \n",
    "    return scrapped_list"
   ]
  },
  {
   "cell_type": "code",
   "execution_count": 50,
   "metadata": {},
   "outputs": [
    {
     "name": "stdout",
     "output_type": "stream",
     "text": [
      "['29.0', '24.0', '29.0', '20.0', '24.0']\n"
     ]
    }
   ],
   "source": [
    "print(main())"
   ]
  },
  {
   "cell_type": "markdown",
   "metadata": {},
   "source": [
    "**ONLINE RETAILER WEBSITE CHALLENGE**"
   ]
  },
  {
   "cell_type": "code",
   "execution_count": 60,
   "metadata": {},
   "outputs": [
    {
     "name": "stdout",
     "output_type": "stream",
     "text": [
      "https://titan22.com/pages/contact-us\n",
      "None\n"
     ]
    }
   ],
   "source": [
    "def get_driver():\n",
    "\n",
    "    options = webdriver.ChromeOptions()\n",
    "    #print(options)\n",
    "    options.add_argument(\"disable-infobars\")\n",
    "    options.add_argument(\"start-maximized\")\n",
    "    options.add_argument(\"disable-dev-shm-usage\")\n",
    "    options.add_argument(\"no-sandbox\")\n",
    "    options.add_experimental_option(\"excludeSwitches\",[\"enable_automation\"])\n",
    "    options.add_argument(\"disable-blank-features=AutomationControlled\")\n",
    "\n",
    "    driver = webdriver.Chrome(options=options)\n",
    "    driver.get(\"https://titan22.com/account/login?return_url=%2Faccount\")\n",
    "\n",
    "    return driver\n",
    "\n",
    "def main():\n",
    "    \n",
    "    driver = get_driver()\n",
    "    driver.find_element(by = \"id\", value = \"CustomerEmail\").send_keys(\"kottaameer@gmail.com\")\n",
    "    time.sleep(3)\n",
    "    driver.find_element(by = \"id\", value = \"CustomerPassword\").send_keys(\"titan22@123\" + Keys.RETURN)\n",
    "    time.sleep(3)\n",
    "    driver.find_element(by = \"xpath\", value = \"//*[@id='shopify-section-footer']/section/div/div[1]/div[1]/div[1]/nav/ul/li[1]/a\").click()\n",
    "    print(driver.current_url)\n",
    "    \n",
    "print(main())"
   ]
  },
  {
   "cell_type": "code",
   "execution_count": null,
   "metadata": {},
   "outputs": [],
   "source": []
  }
 ],
 "metadata": {
  "kernelspec": {
   "display_name": "Python 3",
   "language": "python",
   "name": "python3"
  },
  "language_info": {
   "codemirror_mode": {
    "name": "ipython",
    "version": 3
   },
   "file_extension": ".py",
   "mimetype": "text/x-python",
   "name": "python",
   "nbconvert_exporter": "python",
   "pygments_lexer": "ipython3",
   "version": "3.8.3"
  }
 },
 "nbformat": 4,
 "nbformat_minor": 4
}
