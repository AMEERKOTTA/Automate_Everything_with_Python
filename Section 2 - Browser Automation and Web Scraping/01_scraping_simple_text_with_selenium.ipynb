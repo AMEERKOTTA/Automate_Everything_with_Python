{
 "cells": [
  {
   "cell_type": "markdown",
   "metadata": {},
   "source": [
    "### SCRAPING SIMPLE TEXT WITH SELENIUM\n",
    "\n",
    "+ scrape both static and dynamic real time data from webpages using Selenium Library."
   ]
  },
  {
   "cell_type": "code",
   "execution_count": 1,
   "metadata": {},
   "outputs": [
    {
     "name": "stdout",
     "output_type": "stream",
     "text": [
      "“For the things we have to learn before we can do them, we learn by doing them”- Aristotle\n"
     ]
    }
   ],
   "source": [
    "from selenium import webdriver\n",
    "\n",
    "def get_driver():\n",
    "\n",
    "    options = webdriver.ChromeOptions()\n",
    "    #print(options)\n",
    "    options.add_argument(\"disable-infobars\")\n",
    "    options.add_argument(\"start-maximized\")\n",
    "    options.add_argument(\"disable-dev-shm-usage\")\n",
    "    options.add_argument(\"no-sandbox\")\n",
    "    options.add_experimental_option(\"excludeSwitches\",[\"enable_automation\"])\n",
    "    options.add_argument(\"disable-blank-features=AutomationControlled\")\n",
    "\n",
    "    driver = webdriver.Chrome(options=options)\n",
    "    driver.get(\"http://automated.pythonanywhere.com\")\n",
    "\n",
    "    return driver\n",
    "\n",
    "\n",
    "def main():\n",
    "    \n",
    "    driver = get_driver()\n",
    "    element = driver.find_element(by = \"xpath\", value = \"/html/body/div[1]/div/h1[1]\")\n",
    "    \n",
    "    return element.text\n",
    "\n",
    "print(main())"
   ]
  },
  {
   "cell_type": "markdown",
   "metadata": {},
   "source": [
    "Download the Chromium version file in the Folder"
   ]
  },
  {
   "cell_type": "markdown",
   "metadata": {},
   "source": [
    "### SCRAPING DYNAMIC VALUE\n",
    "\n",
    "+ Dynamic Value is Changing Value"
   ]
  },
  {
   "cell_type": "code",
   "execution_count": 10,
   "metadata": {},
   "outputs": [
    {
     "name": "stdout",
     "output_type": "stream",
     "text": [
      "Elon Musk cofounded six companies including electric car maker Tesla, rocket producer SpaceX and tunneling startup Boring Company.\n",
      "He owns about 25% of Tesla between stock and options, but has pledged more than half his stock as collateral for loans.\n",
      "SpaceX, founded in 2002, is worth $127 billion after a funding round in May 2022; it quadrupled its value in three years.\n",
      "Boring Company, which aims to defeat traffic, raised $675 million in April 2022 at a $5.7 billion valuation.\n",
      "Twitter's board agreed to sell the company to Musk for $44 billion in April 2022, after he disclosed a 9.1% stake and threatened a hostile takeover.\n",
      "The deal closed in October 2022 after Musk tried to back out and Twitter sued. Musk now owns an estimated 74% of the company.\n"
     ]
    }
   ],
   "source": [
    "from selenium import webdriver\n",
    "\n",
    "def get_driver():\n",
    "\n",
    "    options = webdriver.ChromeOptions()\n",
    "    #print(options)\n",
    "    options.add_argument(\"disable-infobars\")\n",
    "    options.add_argument(\"start-maximized\")\n",
    "    options.add_argument(\"disable-dev-shm-usage\")\n",
    "    options.add_argument(\"no-sandbox\")\n",
    "    options.add_experimental_option(\"excludeSwitches\",[\"enable_automation\"])\n",
    "    options.add_argument(\"disable-blank-features=AutomationControlled\")\n",
    "\n",
    "    driver = webdriver.Chrome(options=options)\n",
    "    driver.get(\"https://www.forbes.com/profile/elon-musk/?sh=2d86bc37999b\")\n",
    "\n",
    "    return driver\n",
    "\n",
    "\n",
    "def main():\n",
    "    \n",
    "    driver = get_driver()\n",
    "    element = driver.find_element(by = \"xpath\", value = \"/html/body/div[1]/div[1]/div[2]/div[1]/div[1]/ul\")\n",
    "    \n",
    "    return element.text\n",
    "\n",
    "print(main())"
   ]
  },
  {
   "cell_type": "code",
   "execution_count": 12,
   "metadata": {},
   "outputs": [
    {
     "name": "stdout",
     "output_type": "stream",
     "text": [
      "Average World Temperature Now: 28\n"
     ]
    }
   ],
   "source": [
    "from selenium import webdriver\n",
    "import time\n",
    "\n",
    "def get_driver():\n",
    "\n",
    "    options = webdriver.ChromeOptions()\n",
    "    #print(options)\n",
    "    options.add_argument(\"disable-infobars\")\n",
    "    options.add_argument(\"start-maximized\")\n",
    "    options.add_argument(\"disable-dev-shm-usage\")\n",
    "    options.add_argument(\"no-sandbox\")\n",
    "    options.add_experimental_option(\"excludeSwitches\",[\"enable_automation\"])\n",
    "    options.add_argument(\"disable-blank-features=AutomationControlled\")\n",
    "\n",
    "    driver = webdriver.Chrome(options=options)\n",
    "    driver.get(\"http://automated.pythonanywhere.com\")\n",
    "\n",
    "    return driver\n",
    "\n",
    "\n",
    "def main():\n",
    "    \n",
    "    driver = get_driver()\n",
    "    time.sleep(5)\n",
    "    element = driver.find_element(by = \"xpath\", value = \"/html/body/div[1]/div/h1[2]\")\n",
    "    \n",
    "    return element.text\n",
    "\n",
    "print(main())"
   ]
  },
  {
   "cell_type": "markdown",
   "metadata": {},
   "source": [
    "We need only the value after the : and space"
   ]
  },
  {
   "cell_type": "code",
   "execution_count": 13,
   "metadata": {},
   "outputs": [
    {
     "name": "stdout",
     "output_type": "stream",
     "text": [
      "20.0\n"
     ]
    }
   ],
   "source": [
    "from selenium import webdriver\n",
    "import time\n",
    "\n",
    "def get_driver():\n",
    "\n",
    "    options = webdriver.ChromeOptions()\n",
    "    #print(options)\n",
    "    options.add_argument(\"disable-infobars\")\n",
    "    options.add_argument(\"start-maximized\")\n",
    "    options.add_argument(\"disable-dev-shm-usage\")\n",
    "    options.add_argument(\"no-sandbox\")\n",
    "    options.add_experimental_option(\"excludeSwitches\",[\"enable_automation\"])\n",
    "    options.add_argument(\"disable-blank-features=AutomationControlled\")\n",
    "\n",
    "    driver = webdriver.Chrome(options=options)\n",
    "    driver.get(\"http://automated.pythonanywhere.com\")  ## this will give the path to the website.\n",
    "\n",
    "    return driver\n",
    "\n",
    "def clean_text(text):\n",
    "    \"\"\"\n",
    "    Extract only the temperature from the Text.\n",
    "    \"\"\"\n",
    "    output = float(text.split(\": \")[1])\n",
    "    \n",
    "    return output\n",
    "    \n",
    "\n",
    "\n",
    "def main():\n",
    "    \n",
    "    driver = get_driver() ## this will go to this page\n",
    "    time.sleep(5)         ## time is used to sleep or wait in the website for a time of 5 seconds\n",
    "    element = driver.find_element(by = \"xpath\", value = \"/html/body/div[1]/div/h1[2]\")  ## this will find the element.\n",
    "    \n",
    "    return clean_text(element.text)\n",
    "\n",
    "print(main())"
   ]
  },
  {
   "cell_type": "code",
   "execution_count": null,
   "metadata": {},
   "outputs": [],
   "source": []
  }
 ],
 "metadata": {
  "kernelspec": {
   "display_name": "Python 3",
   "language": "python",
   "name": "python3"
  },
  "language_info": {
   "codemirror_mode": {
    "name": "ipython",
    "version": 3
   },
   "file_extension": ".py",
   "mimetype": "text/x-python",
   "name": "python",
   "nbconvert_exporter": "python",
   "pygments_lexer": "ipython3",
   "version": "3.8.3"
  }
 },
 "nbformat": 4,
 "nbformat_minor": 4
}
