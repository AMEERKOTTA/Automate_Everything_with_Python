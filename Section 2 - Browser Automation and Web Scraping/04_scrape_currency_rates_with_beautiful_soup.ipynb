{
 "cells": [
  {
   "cell_type": "markdown",
   "metadata": {},
   "source": [
    "### SCRAPE REAL TME CURRENCY RATE WITH BEAUTIFUL SOUP"
   ]
  },
  {
   "cell_type": "code",
   "execution_count": 13,
   "metadata": {},
   "outputs": [
    {
     "name": "stdout",
     "output_type": "stream",
     "text": [
      "82.780217\n"
     ]
    }
   ],
   "source": [
    "from bs4 import BeautifulSoup\n",
    "import requests\n",
    "\n",
    "def get_currency_rate(in_currency, out_currency,):\n",
    "    \n",
    "    url = f\"https://www.x-rates.com/calculator/?from={in_currency}&to={out_currency}&amount=1\"\n",
    "    #print(url)\n",
    "    content = requests.get(url).text\n",
    "    #print(content)\n",
    "    soup = BeautifulSoup(content,\"html.parser\")\n",
    "    #print(soup)\n",
    "    rate = soup.find(\"span\",class_ = \"ccOutputRslt\").get_text()[0:-4]\n",
    "    ret\n",
    "    \n",
    "get_currency_rate(\"USD\",\"INR\")"
   ]
  },
  {
   "cell_type": "code",
   "execution_count": 14,
   "metadata": {},
   "outputs": [
    {
     "name": "stdout",
     "output_type": "stream",
     "text": [
      "22.540563\n"
     ]
    }
   ],
   "source": [
    "get_currency_rate(\"AED\",\"INR\")"
   ]
  },
  {
   "cell_type": "code",
   "execution_count": 15,
   "metadata": {},
   "outputs": [
    {
     "name": "stdout",
     "output_type": "stream",
     "text": [
      "22.074824\n"
     ]
    }
   ],
   "source": [
    "get_currency_rate(\"SAR\",\"INR\")"
   ]
  },
  {
   "cell_type": "code",
   "execution_count": 16,
   "metadata": {},
   "outputs": [
    {
     "name": "stdout",
     "output_type": "stream",
     "text": [
      "88.596943\n"
     ]
    }
   ],
   "source": [
    "get_currency_rate(\"EUR\",\"INR\")"
   ]
  },
  {
   "cell_type": "code",
   "execution_count": 18,
   "metadata": {},
   "outputs": [
    {
     "name": "stdout",
     "output_type": "stream",
     "text": [
      "220.161146\n"
     ]
    }
   ],
   "source": [
    "get_currency_rate(\"BHD\",\"INR\")"
   ]
  },
  {
   "cell_type": "code",
   "execution_count": 19,
   "metadata": {},
   "outputs": [
    {
     "name": "stdout",
     "output_type": "stream",
     "text": [
      "215.139052\n"
     ]
    }
   ],
   "source": [
    "get_currency_rate(\"OMR\",\"INR\")"
   ]
  },
  {
   "cell_type": "code",
   "execution_count": null,
   "metadata": {},
   "outputs": [],
   "source": []
  }
 ],
 "metadata": {
  "kernelspec": {
   "display_name": "Python 3",
   "language": "python",
   "name": "python3"
  },
  "language_info": {
   "codemirror_mode": {
    "name": "ipython",
    "version": 3
   },
   "file_extension": ".py",
   "mimetype": "text/x-python",
   "name": "python",
   "nbconvert_exporter": "python",
   "pygments_lexer": "ipython3",
   "version": "3.8.3"
  }
 },
 "nbformat": 4,
 "nbformat_minor": 4
}
