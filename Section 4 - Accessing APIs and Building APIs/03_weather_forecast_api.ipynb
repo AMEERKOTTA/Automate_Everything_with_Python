{
 "cells": [
  {
   "cell_type": "markdown",
   "metadata": {},
   "source": [
    "### Weather Forecast API\n",
    "\n",
    "+ Accessing APIs\n",
    "+ Working with json data."
   ]
  },
  {
   "cell_type": "code",
   "execution_count": 1,
   "metadata": {},
   "outputs": [],
   "source": [
    "import requests"
   ]
  },
  {
   "cell_type": "code",
   "execution_count": 136,
   "metadata": {},
   "outputs": [],
   "source": [
    "def five_days_three_hours_data(city_name, units = \"metric\", api_key = \"bc84efc20d62583a3dce5883e86b71db\"):\n",
    "    \n",
    "    url = f\"https://api.openweathermap.org/data/2.5/forecast?q={city_name}&appid={api_key}&units={units}\"\n",
    "    r = requests.get(url)\n",
    "    content = r.json()\n",
    "    \n",
    "    \n",
    "    with open(\"data.txt\", \"a\") as file:\n",
    "        for dicts in content[\"list\"]:\n",
    "            #print(dicts.keys())\n",
    "            file.write(f'{dicts[\"dt_txt\"]}, {dicts[\"main\"][\"temp\"]}, {dicts[\"weather\"][0][\"description\"]}\\n')\n",
    "    #return content\n",
    "    \n",
    "five_days_three_hours_data(city_name = \"kondotty\")"
   ]
  },
  {
   "cell_type": "code",
   "execution_count": null,
   "metadata": {},
   "outputs": [],
   "source": []
  },
  {
   "cell_type": "code",
   "execution_count": null,
   "metadata": {},
   "outputs": [],
   "source": []
  }
 ],
 "metadata": {
  "kernelspec": {
   "display_name": "Python 3",
   "language": "python",
   "name": "python3"
  },
  "language_info": {
   "codemirror_mode": {
    "name": "ipython",
    "version": 3
   },
   "file_extension": ".py",
   "mimetype": "text/x-python",
   "name": "python",
   "nbconvert_exporter": "python",
   "pygments_lexer": "ipython3",
   "version": "3.8.3"
  }
 },
 "nbformat": 4,
 "nbformat_minor": 4
}
